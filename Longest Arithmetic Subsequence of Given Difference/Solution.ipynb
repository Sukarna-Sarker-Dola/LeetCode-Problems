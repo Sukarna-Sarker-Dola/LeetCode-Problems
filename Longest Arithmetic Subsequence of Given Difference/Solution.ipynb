{
  "nbformat": 4,
  "nbformat_minor": 0,
  "metadata": {
    "colab": {
      "provenance": []
    },
    "kernelspec": {
      "name": "python3",
      "display_name": "Python 3"
    },
    "language_info": {
      "name": "python"
    }
  },
  "cells": [
    {
      "cell_type": "code",
      "execution_count": 28,
      "metadata": {
        "colab": {
          "base_uri": "https://localhost:8080/"
        },
        "id": "yk8GNE1w5iqo",
        "outputId": "ffe8d5ff-af77-43be-d515-ab2594bc6fb5"
      },
      "outputs": [
        {
          "output_type": "stream",
          "name": "stdout",
          "text": [
            "4\n"
          ]
        }
      ],
      "source": [
        "arr = [1,5,7,8,5,3,4,2,1]\n",
        "diff = -2\n",
        "\n",
        "a = []\n",
        "\n",
        "for i in range(len(arr) - 1, -1, -1):\n",
        "  for j in range(len(arr) - 2, -1, -1):\n",
        "    sub = arr[i] - arr[j]\n",
        "    if sub == diff:\n",
        "      a.append(arr[i])\n",
        "      a.append(arr[j])\n",
        "      i = j\n",
        "      j = j\n",
        "  break\n",
        "\n",
        "if not a:\n",
        "  a.append(arr[0])\n",
        "\n",
        "\n",
        "for i in range(0,len(a)-1):\n",
        "  for j in range(i+1,len(a)-1):\n",
        "    if a[i] == a[j]:\n",
        "      del a[j]\n",
        "print(len(a))\n",
        "\n"
      ]
    }
  ]
}