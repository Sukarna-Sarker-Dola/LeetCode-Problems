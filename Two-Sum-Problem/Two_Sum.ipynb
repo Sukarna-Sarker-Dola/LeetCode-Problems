{
  "nbformat": 4,
  "nbformat_minor": 0,
  "metadata": {
    "colab": {
      "provenance": []
    },
    "kernelspec": {
      "name": "python3",
      "display_name": "Python 3"
    },
    "language_info": {
      "name": "python"
    }
  },
  "cells": [
    {
      "cell_type": "code",
      "source": [
        "class Solution(object):\n",
        "    def twoSum(self, nums, target):\n",
        "        newDict = []\n",
        "        for i in range(0,len(nums)):\n",
        "          for j in range(i+1,len(nums)):\n",
        "              total = nums[i]+nums[j]\n",
        "              if total == target:\n",
        "                if i not in newDict:\n",
        "                  if j not in newDict:\n",
        "                    newDict.append(i)\n",
        "                    newDict.append(j)\n",
        "        return newDict"
      ],
      "metadata": {
        "id": "9zP8tL3UVDXh"
      },
      "execution_count": null,
      "outputs": []
    }
  ]
}